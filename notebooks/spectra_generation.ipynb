{
 "cells": [
  {
   "cell_type": "code",
   "execution_count": null,
   "id": "8a4039f5",
   "metadata": {},
   "outputs": [],
   "source": [
    "\n",
    "import sys\n",
    "import os\n",
    "\n",
    "sys.path.append(os.path.abspath(\"../src\"))\n",
    "\n",
    "import numpy as np\n",
    "\n",
    "from gwpopulation.models.mass import SinglePeakSmoothedMassDistribution\n",
    "from gwpopulation.models.redshift import MadauDickinsonRedshift\n",
    "\n",
    "from gwnet.simulator import Simulator\n",
    "from gwnet.utils import load_lambda_samples\n"
   ]
  },
  {
   "cell_type": "code",
   "execution_count": null,
   "id": "bafcd0f0",
   "metadata": {},
   "outputs": [],
   "source": [
    "mass_obj = SinglePeakSmoothedMassDistribution()\n",
    "redshift_obj = MadauDickinsonRedshift(z_max=10)\n",
    "\n",
    "population_model = {\n",
    "            \"mass_model\": mass_obj,\n",
    "            \"redshift_model\": redshift_obj,\n",
    "        }"
   ]
  },
  {
   "cell_type": "code",
   "execution_count": null,
   "id": "10ceff1b",
   "metadata": {},
   "outputs": [],
   "source": [
    "freqs = np.logspace(np.log(10), np.log(2000), num=400, base=np.e)\n",
    "\n",
    "json_path = os.path.abspath(\"../data/hyperparameters/lambdas_plpp.json\")\n",
    "lambda_samples = load_lambda_samples(json_path)\n",
    "\n",
    "fiducial_params = {\n",
    "        \"alpha\": 2.5,\n",
    "        \"beta\": 1,\n",
    "        \"delta_m\": 3,\n",
    "        \"lam\": 0.04,\n",
    "        \"mmax\": 100,\n",
    "        \"mmin\": 4,\n",
    "        \"mpp\": 33,\n",
    "        \"sigpp\": 5,\n",
    "        \"gamma\": 2.7,\n",
    "        \"kappa\": 3,\n",
    "        \"z_peak\": 1.9,\n",
    "        \"rate\": 15,\n",
    "    }"
   ]
  },
  {
   "cell_type": "code",
   "execution_count": null,
   "id": "16ccff06",
   "metadata": {},
   "outputs": [],
   "source": [
    "sim = Simulator(freqs, lambda_samples, population_model)\n",
    "results = sim.run_multiple(fiducial_params, \n",
    "                            n_runs=2,                  \n",
    "                            n_proposal_samples=1000,\n",
    "                            wave_approx=\"IMRPhenomD\",\n",
    "                            outfile_prefix=\"../data/spectra/plpp/plpp_run\",\n",
    ")"
   ]
  }
 ],
 "metadata": {
  "kernelspec": {
   "display_name": "Python 3",
   "language": "python",
   "name": "python3"
  },
  "language_info": {
   "codemirror_mode": {
    "name": "ipython",
    "version": 3
   },
   "file_extension": ".py",
   "mimetype": "text/x-python",
   "name": "python",
   "nbconvert_exporter": "python",
   "pygments_lexer": "ipython3",
   "version": "3.11.2"
  }
 },
 "nbformat": 4,
 "nbformat_minor": 5
}
