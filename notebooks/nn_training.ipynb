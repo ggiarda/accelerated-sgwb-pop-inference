{
 "cells": [
  {
   "cell_type": "code",
   "execution_count": 1,
   "id": "8a4039f5",
   "metadata": {},
   "outputs": [],
   "source": [
    "\n",
    "import sys\n",
    "import os\n",
    "\n",
    "sys.path.append(os.path.abspath(\"../src\"))\n",
    "\n",
    "from gwnet.utils import summarize_omega_gw_spectra, split_summary_for_training"
   ]
  },
  {
   "cell_type": "code",
   "execution_count": null,
   "id": "3dcc2e57",
   "metadata": {},
   "outputs": [
    {
     "name": "stderr",
     "output_type": "stream",
     "text": [
      "Processing spectra: 100%|██████████| 2/2 [00:00<00:00,  2.09file/s]\n"
     ]
    },
    {
     "name": "stdout",
     "output_type": "stream",
     "text": [
      "Summary file saved as '../data/spectra/ppl/omega_summary_ppl.json'\n"
     ]
    }
   ],
   "source": [
    "input_pattern = \"../data/spectra/ppl/plpp_run*.json\",\n",
    "output_file   = \"../data/spectra/ppl/omega_summary_plpp.json\"\n",
    "\n",
    "summary = summarize_omega_gw_spectra(\n",
    "    input_pattern = input_pattern,\n",
    "    output_file   = output_file\n",
    ")"
   ]
  },
  {
   "cell_type": "code",
   "execution_count": null,
   "id": "1e8ac2bd",
   "metadata": {},
   "outputs": [],
   "source": [
    "labels = ['alpha', 'beta', 'delta_m', 'lam', 'mmax', 'mmin', 'mpp', 'sigpp', 'rate', 'gamma', 'kappa', 'z_peak']\n",
    "\n",
    "splits = split_summary_for_training(\n",
    "    summary_data=summary,\n",
    "    labels=labels,\n",
    "    test_size=0.2,\n",
    "    save_dir=None\n",
    ")\n",
    "\n",
    "X_train = splits[\"X_train\"]\n",
    "X_test = splits[\"X_test\"]"
   ]
  },
  {
   "cell_type": "code",
   "execution_count": null,
   "id": "5ad37425",
   "metadata": {},
   "outputs": [],
   "source": []
  }
 ],
 "metadata": {
  "kernelspec": {
   "display_name": "Python 3",
   "language": "python",
   "name": "python3"
  },
  "language_info": {
   "codemirror_mode": {
    "name": "ipython",
    "version": 3
   },
   "file_extension": ".py",
   "mimetype": "text/x-python",
   "name": "python",
   "nbconvert_exporter": "python",
   "pygments_lexer": "ipython3",
   "version": "3.11.2"
  }
 },
 "nbformat": 4,
 "nbformat_minor": 5
}
